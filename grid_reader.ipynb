{
 "cells": [
  {
   "cell_type": "markdown",
   "id": "d8f3af11",
   "metadata": {},
   "source": [
    "# CLOUDY grid reader\n",
    "\n",
    "Once a grid of CLOUDY simulations has been run, it's useful to navigate through the output files to check for warnings and errors. This notebook assumes the output files (`.out`) are in subdirectories divided by type (PDR/XDR) and gas density (the `hden` parameter in CLOUDY)"
   ]
  },
  {
   "cell_type": "code",
   "execution_count": 1,
   "id": "28d1108f",
   "metadata": {},
   "outputs": [],
   "source": [
    "# working directory\n",
    "wd = '/media/phd/cloudy/ngmgrid/'\n",
    "\n",
    "# libraries\n",
    "import os\n",
    "import re\n",
    "import numpy as np\n",
    "import pandas as pd\n",
    "import matplotlib.pyplot as plt\n",
    "import matplotlib.style as style\n",
    "from matplotlib.ticker import MaxNLocator\n",
    "import seaborn as sns\n",
    "from collections import Counter\n",
    "\n",
    "# useful constants\n",
    "c = 2.99792458e10 #cm/s\n",
    "pc = 3.086e18 # cm\n",
    "msun = 1.99e33 # g\n",
    "lsun = 3.9e33 # erg/s\n",
    "ry_ev = 13.605698 # eV in 1 Rydberg\n",
    "ry_nm = 91.1270 # nm in 1 Rydberg\n",
    "ry_hz = 3.2898e+15 # Hz in 1 Rydberg\n",
    "\n",
    "# seaborn options\n",
    "sns.set(rc={\"figure.dpi\":130, 'savefig.dpi':130})\n",
    "sns.set_style('ticks')\n",
    "sns.set_style({'xtick.direction': 'in', 'ytick.direction': 'in',\n",
    "              'xtick.top': True, 'ytick.right': True})\n",
    "sns.set_context(\"paper\", rc={\"font.size\":14, \n",
    "                             \"axes.titlesize\":16, \"axes.labelsize\":16,\n",
    "                             'xtick.labelsize':14, 'ytick.labelsize':14, \n",
    "                             'xtick.minor.size': 0, 'ytick.minor.size': 0})"
   ]
  },
  {
   "cell_type": "markdown",
   "id": "a85f6d4d",
   "metadata": {},
   "source": [
    "# Table of contents <a class=\"anchor\" id=\"toc\"></a>\n",
    "\n",
    "1. [Check the output from a single simulation](#single)\n",
    "2. [Find the problems among the full grid](#grid)"
   ]
  },
  {
   "cell_type": "markdown",
   "id": "6289c2c6",
   "metadata": {},
   "source": [
    "## 1. Check the output from a single simulation <a class=\"anchor\" id=\"single\"></a>\n",
    "[(back to the top)](#toc)\n",
    "\n",
    "Let's take for example `pdr_h325_g600`, which means PDR with $\\log(n_H) = 3.25$ and $\\log(G_0) = 6$"
   ]
  },
  {
   "cell_type": "code",
   "execution_count": 29,
   "id": "ede041c6",
   "metadata": {},
   "outputs": [
    {
     "name": "stdout",
     "output_type": "stream",
     "text": [
      "/media/phd/cloudy/hagrid/pdr_h325/pdr_h325_g600.out\n"
     ]
    }
   ],
   "source": [
    "# fill these 3 variables for your file\n",
    "rad = 'pdr'\n",
    "hden = 3.25\n",
    "G0 = 6\n",
    "\n",
    "# generating the filename\n",
    "sub = rad + '_h' + ('%.2f' % hden).replace('.', '')\n",
    "if rad == 'pdr': this = '_g' + ('%.2f' % G0).replace('.', '')\n",
    "if rad == 'xdr': this = '_x' + ('%.2f' % FX).replace('.', '')\n",
    "this = sub + '/' + sub + this\n",
    "print(wd + this + '.out')\n",
    "\n",
    "# open the file\n",
    "with open(wd + this + '.out', 'r') as f:\n",
    "    lines = f.readlines()"
   ]
  },
  {
   "cell_type": "markdown",
   "id": "0b70d791",
   "metadata": {},
   "source": [
    "The output file is long and divided in blocks. Its structure is described in the Hazy 2 document. Here is a list:\n",
    "\n",
    "- Input commands from the input file, within a box of `*`\n",
    "- Informations about the continuum that strikes the illuminated face of the cloud (block with `CellPeak`)\n",
    "- The chemical composition of the cloud (`Chemical Composition`)\n",
    "- Disasters (`DISASTER`), problems (`PROBLEM`) and notes (`NOTE`)\n",
    "- A summary of the conditions in the first zone (starts with `####  1`) and the last (starts with `###`)\n",
    "- `Calculation stopped because`, the reason and the iteration number\n",
    "- Warnings (`W-`), cautions (`C-`), surprises (`!`) and notes (no symbol)\n",
    "- Final printout: it prints again the input commands, followed by predicted line intensities (`line intensities`), energy budget (`ENERGY BUDGET`), and average temperatures, densities, etc (`Averaged Quantities`)\n",
    "\n",
    "\n",
    "It prints the last 4 points for every iteration (which starts with `Start Iteration `), then after the last iteration it prints:\n",
    "\n",
    "- Column densities of some atoms, molecules and ions (`column densities`)\n",
    "- Mean ionization and temperatures, averaged over volume, area and radius (`Mean Ionisation`)\n",
    "- Convergence statistics (`Convergence statistics`)\n",
    "- Final report, which lists the number of zones, iterations, warnings, cautions, execution time and if the calculation was succesful (`Cloudy exited OK`)"
   ]
  },
  {
   "cell_type": "markdown",
   "id": "676be46f",
   "metadata": {},
   "source": [
    "### Print disasters, problems, warnings, cautions and final report"
   ]
  },
  {
   "cell_type": "code",
   "execution_count": 30,
   "id": "89823ccc",
   "metadata": {},
   "outputs": [
    {
     "name": "stdout",
     "output_type": "stream",
     "text": [
      " NOTE Setcon: continuum has zero intensity starting at  1.0052e+01 Ryd.\n",
      "\n",
      " C-Continuum zero at some energies.\n",
      "\n",
      "-------------------------------------------------- \n",
      "\n",
      "           Start Iteration Number 2                                                                      PDR grid\n",
      "\n",
      " W-Calculation stopped because default number of zones reached.  Was this intended???\n",
      "\n",
      " W-Default limit can be increased while retaining this check with the SET NEND command.\n",
      "\n",
      " C-Continuum zero at some energies.\n",
      "\n",
      "-------------------------------------------------- \n",
      "\n",
      "           Start Iteration Number 3                                                                      PDR grid\n",
      "\n",
      " C-Continuum zero at some energies.\n",
      "\n",
      " C-The Lya optical depth scale was overrun and this is the last iteration - Tspin(21 cm) is not valid.\n",
      "\n",
      " C-Another iteration is needed for Tspin(21 cm) to be valid.  Use the ITERATE command.\n",
      "\n",
      "************************************************** \n",
      "\n",
      "  Cloudy ends: 1391 zones, 3 iterations, 3 cautions. (single thread) ExecTime(s) 2369.81\n",
      "\n",
      " [Stop in cdMain at maincl.cpp:496, Cloudy exited OK]\n",
      "\n"
     ]
    }
   ],
   "source": [
    "for l in lines:\n",
    "    \n",
    "    # keep track of the iteration\n",
    "    if 'Start Iteration' in l: print('-' * 50, '\\n\\n', l)\n",
    "    \n",
    "    # print every disaster, problem and notes\n",
    "    if 'DISASTER' in l: print(l)\n",
    "    if 'PROBLEM' in l: print(l)\n",
    "    if 'NOTE' in l: print(l)\n",
    "    \n",
    "    # print every warning and caution\n",
    "    if 'W-' in l: print(l)\n",
    "    if 'C-' in l: print(l)\n",
    "    \n",
    "    # print final report\n",
    "    if 'Cloudy ends' in l: print('*' * 50, '\\n\\n', l)\n",
    "    if 'Stop in cdMain' in l: print(l)"
   ]
  },
  {
   "cell_type": "markdown",
   "id": "69ff6cad",
   "metadata": {},
   "source": [
    "### Simulation with failures\n",
    "\n",
    "Let's do it with a simulation which exited OK but with a failure"
   ]
  },
  {
   "cell_type": "code",
   "execution_count": 31,
   "id": "0e024afe",
   "metadata": {
    "scrolled": false
   },
   "outputs": [
    {
     "name": "stdout",
     "output_type": "stream",
     "text": [
      " PROBLEM  ConvFail 1, Temp not converged itr 1 zone 257 fnzone 258.41 Te=2.6308e+04 Htot=4.747e-21 Ctot=4.837e-21 rel err=-1.889e-02 rel tol:5.000e-03\n",
      "\n",
      " C-Model is thick to cosmic rays, which are on.\n",
      "\n",
      " C-A temperature discontinuity occurred from 8.77e+04K (zone 4) to 5.59e+05K (zone 5).\n",
      "\n",
      " C-An ionization jump occurred, elem H  1, by 6850% from 1.15e-03 (zone 256) to 2.10e-03 (zone 257) to 1.44e-01 (zone 258)\n",
      "\n",
      " C-An ionization jump occurred, elem He 1, by 2093% from 9.82e-03 (zone 256) to 2.58e-02 (zone 257) to 5.40e-01 (zone 258)\n",
      "\n",
      " C-An ionization jump occurred, elem Al 3, by 1661% from 1.40e-03 (zone 256) to 2.29e-03 (zone 257) to 3.81e-02 (zone 258)\n",
      "\n",
      " C-An ionization jump occurred, elem Si 2, by 8788% from 2.82e-03 (zone 256) to 7.12e-03 (zone 257) to 6.26e-01 (zone 258)\n",
      "\n",
      " C-An ionization jump occurred, elem S  3, by 1023% from 4.57e-02 (zone 256) to 7.74e-02 (zone 257) to 7.92e-01 (zone 258)\n",
      "\n",
      " C-An ionization jump occurred, elem S 17, by 1021% from 1.92e-02 (zone 3) to 2.00e-02 (zone 4) to 2.05e-01 (zone 5)\n",
      "\n",
      " C-An ionization jump occurred, elem Cl 2, by 1432% from 1.97e-03 (zone 256) to 4.04e-03 (zone 257) to 5.79e-02 (zone 258)\n",
      "\n",
      " C-An ionization jump occurred, elem Cl 3, by 1309% from 3.51e-02 (zone 256) to 6.13e-02 (zone 257) to 8.03e-01 (zone 258)\n",
      "\n",
      " C-An ionization jump occurred, elem Cl18, by 1714% from 7.10e-03 (zone 3) to 7.48e-03 (zone 4) to 1.28e-01 (zone 5)\n",
      "\n",
      " C-An ionization jump occurred, elem Ar 2, by 2835% from 2.33e-03 (zone 256) to 6.36e-03 (zone 257) to 1.80e-01 (zone 258)\n",
      "\n",
      " C-An ionization jump occurred, elem Ar19, by 2963% from 2.43e-03 (zone 3) to 2.60e-03 (zone 4) to 7.70e-02 (zone 5)\n",
      "\n",
      " C-An ionization jump occurred, elem K 19, by 1355% from 1.79e-02 (zone 3) to 1.91e-02 (zone 4) to 2.58e-01 (zone 5)\n",
      "\n",
      " C-An ionization jump occurred, elem Ca 3, by 1082% from 4.37e-02 (zone 256) to 6.32e-02 (zone 257) to 6.84e-01 (zone 258)\n",
      "\n",
      " C-An ionization jump occurred, elem Ca20, by 1549% from 1.14e-02 (zone 3) to 1.20e-02 (zone 4) to 1.85e-01 (zone 5)\n",
      "\n",
      " C-An ionization jump occurred, elem Sc21, by 2413% from 4.79e-03 (zone 3) to 5.04e-03 (zone 4) to 1.22e-01 (zone 5)\n",
      "\n",
      " C-An ionization jump occurred, elem Ti21, by 2049% from 1.48e-02 (zone 3) to 1.56e-02 (zone 4) to 3.21e-01 (zone 5)\n",
      "\n",
      " C-An ionization jump occurred, elem V  3, by 1221% from 2.14e-02 (zone 256) to 3.94e-02 (zone 257) to 4.81e-01 (zone 258)\n",
      "\n",
      " C-An ionization jump occurred, elem V 20, by 1178% from 1.31e-02 (zone 3) to 1.38e-02 (zone 4) to 1.62e-01 (zone 5)\n",
      "\n",
      " C-An ionization jump occurred, elem V 21, by 2584% from 4.78e-03 (zone 3) to 5.04e-03 (zone 4) to 1.30e-01 (zone 5)\n",
      "\n",
      " C-An ionization jump occurred, elem V 22, by 7467% from 2.46e-03 (zone 3) to 2.63e-03 (zone 4) to 1.97e-01 (zone 5)\n",
      "\n",
      " C-An ionization jump occurred, elem Cr 3, by 1199% from 2.95e-02 (zone 256) to 5.76e-02 (zone 257) to 6.91e-01 (zone 258)\n",
      "\n",
      " C-An ionization jump occurred, elem Cr21, by 1308% from 1.07e-02 (zone 3) to 1.13e-02 (zone 4) to 1.47e-01 (zone 5)\n",
      "\n",
      " C-An ionization jump occurred, elem Cr22, by 3377% from 2.54e-03 (zone 3) to 2.69e-03 (zone 4) to 9.09e-02 (zone 5)\n",
      "\n",
      " C-An ionization jump occurred, elem Cr23, by 8613% from 1.19e-03 (zone 3) to 1.28e-03 (zone 4) to 1.10e-01 (zone 5)\n",
      "\n",
      " C-An ionization jump occurred, elem Mn21, by 1030% from 1.91e-02 (zone 3) to 2.00e-02 (zone 4) to 2.06e-01 (zone 5)\n",
      "\n",
      " C-An ionization jump occurred, elem Mn22, by 2174% from 4.93e-03 (zone 3) to 5.18e-03 (zone 4) to 1.13e-01 (zone 5)\n",
      "\n",
      " C-An ionization jump occurred, elem Fe 3, by 1309% from 1.86e-02 (zone 256) to 4.13e-02 (zone 257) to 5.40e-01 (zone 258)\n",
      "\n",
      " C-An ionization jump occurred, elem Fe22, by 1721% from 9.33e-03 (zone 3) to 9.84e-03 (zone 4) to 1.69e-01 (zone 5)\n",
      "\n",
      " C-An ionization jump occurred, elem Fe23, by 3873% from 1.88e-03 (zone 3) to 2.00e-03 (zone 4) to 7.74e-02 (zone 5)\n",
      "\n",
      " C-An ionization jump occurred, elem Co23, by 1594% from 7.83e-03 (zone 3) to 8.12e-03 (zone 4) to 1.29e-01 (zone 5)\n",
      "\n",
      " C-An ionization jump occurred, elem Co24, by 3683% from 1.17e-03 (zone 3) to 1.22e-03 (zone 4) to 4.50e-02 (zone 5)\n",
      "\n",
      " C-An ionization jump occurred, elem Ni24, by 2291% from 3.51e-03 (zone 3) to 3.66e-03 (zone 4) to 8.40e-02 (zone 5)\n",
      "\n",
      " C-An ionization jump occurred, elem Cu 3, by 3988% from 7.46e-03 (zone 256) to 1.97e-02 (zone 257) to 7.87e-01 (zone 258)\n",
      "\n",
      " C-An ionization jump occurred, elem Cu24, by 1747% from 7.89e-03 (zone 3) to 8.21e-03 (zone 4) to 1.43e-01 (zone 5)\n",
      "\n",
      " C-An ionization jump occurred, elem Zn 3, by 1288% from 1.22e-03 (zone 256) to 2.03e-03 (zone 257) to 2.62e-02 (zone 258)\n",
      "\n",
      " C-An ionization jump occurred, elem Zn25, by 3362% from 2.52e-03 (zone 3) to 2.66e-03 (zone 4) to 8.94e-02 (zone 5)\n",
      "\n",
      " C-The temperature varied by 537.0% between two zones\n",
      "\n",
      " C-The electron density varied by 31.7% between two zones\n",
      "\n",
      "-------------------------------------------------- \n",
      "\n",
      "           Start Iteration Number 2                                                                      XDR grid\n",
      "\n",
      " C-Model is thick to cosmic rays, which are on.\n",
      "\n",
      " C-A temperature discontinuity occurred from 8.73e+04K (zone 5) to 5.57e+05K (zone 6).\n",
      "\n",
      " C-An ionization jump occurred, elem H  1, by 3119% from 1.41e-03 (zone 289) to 2.15e-03 (zone 290) to 6.70e-02 (zone 291)\n",
      "\n",
      " C-An ionization jump occurred, elem He 1, by 1660% from 1.41e-02 (zone 289) to 2.75e-02 (zone 290) to 4.57e-01 (zone 291)\n",
      "\n",
      " C-An ionization jump occurred, elem N  1, by 1757% from 1.47e-03 (zone 289) to 2.83e-03 (zone 290) to 4.98e-02 (zone 291)\n",
      "\n",
      " C-An ionization jump occurred, elem Al 3, by 1235% from 1.74e-03 (zone 289) to 2.47e-03 (zone 290) to 3.05e-02 (zone 291)\n",
      "\n",
      " C-An ionization jump occurred, elem Si 2, by 5472% from 4.06e-03 (zone 289) to 7.67e-03 (zone 290) to 4.20e-01 (zone 291)\n",
      "\n",
      " C-An ionization jump occurred, elem S 17, by 1025% from 1.92e-02 (zone 4) to 1.99e-02 (zone 5) to 2.04e-01 (zone 6)\n",
      "\n",
      " C-An ionization jump occurred, elem Cl 2, by 1228% from 2.69e-03 (zone 289) to 4.39e-03 (zone 290) to 5.39e-02 (zone 291)\n",
      "\n",
      " C-An ionization jump occurred, elem Cl 3, by 1068% from 4.38e-02 (zone 289) to 6.45e-02 (zone 290) to 6.89e-01 (zone 291)\n",
      "\n",
      " C-An ionization jump occurred, elem Cl18, by 1723% from 7.09e-03 (zone 4) to 7.42e-03 (zone 5) to 1.28e-01 (zone 6)\n",
      "\n",
      " C-An ionization jump occurred, elem Ar 2, by 2220% from 3.50e-03 (zone 289) to 6.84e-03 (zone 290) to 1.52e-01 (zone 291)\n",
      "\n",
      " C-An ionization jump occurred, elem Ar19, by 2983% from 2.43e-03 (zone 4) to 2.57e-03 (zone 5) to 7.67e-02 (zone 6)\n",
      "\n",
      " C-An ionization jump occurred, elem K 19, by 1365% from 1.79e-02 (zone 4) to 1.89e-02 (zone 5) to 2.58e-01 (zone 6)\n",
      "\n",
      " C-An ionization jump occurred, elem Ca20, by 1556% from 1.14e-02 (zone 4) to 1.19e-02 (zone 5) to 1.85e-01 (zone 6)\n",
      "\n",
      " C-An ionization jump occurred, elem Sc21, by 2423% from 4.78e-03 (zone 4) to 5.00e-03 (zone 5) to 1.21e-01 (zone 6)\n",
      "\n",
      " C-An ionization jump occurred, elem Ti21, by 2060% from 1.48e-02 (zone 4) to 1.55e-02 (zone 5) to 3.20e-01 (zone 6)\n",
      "\n",
      " C-An ionization jump occurred, elem V 20, by 1187% from 1.31e-02 (zone 4) to 1.36e-02 (zone 5) to 1.62e-01 (zone 6)\n",
      "\n",
      " C-An ionization jump occurred, elem V 21, by 2599% from 4.77e-03 (zone 4) to 5.00e-03 (zone 5) to 1.30e-01 (zone 6)\n",
      "\n",
      " C-An ionization jump occurred, elem V 22, by 7514% from 2.45e-03 (zone 4) to 2.60e-03 (zone 5) to 1.96e-01 (zone 6)\n",
      "\n",
      " C-An ionization jump occurred, elem Cr 3, by 1024% from 3.97e-02 (zone 289) to 6.19e-02 (zone 290) to 6.34e-01 (zone 291)\n",
      "\n",
      " C-An ionization jump occurred, elem Cr21, by 1316% from 1.07e-02 (zone 4) to 1.12e-02 (zone 5) to 1.47e-01 (zone 6)\n",
      "\n",
      " C-An ionization jump occurred, elem Cr22, by 3394% from 2.54e-03 (zone 4) to 2.67e-03 (zone 5) to 9.05e-02 (zone 6)\n",
      "\n",
      " C-An ionization jump occurred, elem Cr23, by 8658% from 1.19e-03 (zone 4) to 1.27e-03 (zone 5) to 1.10e-01 (zone 6)\n",
      "\n",
      " C-An ionization jump occurred, elem Mn21, by 1036% from 1.91e-02 (zone 4) to 1.98e-02 (zone 5) to 2.06e-01 (zone 6)\n",
      "\n",
      " C-An ionization jump occurred, elem Mn22, by 2184% from 4.93e-03 (zone 4) to 5.14e-03 (zone 5) to 1.12e-01 (zone 6)\n",
      "\n",
      " C-An ionization jump occurred, elem Fe 3, by 1362% from 2.62e-02 (zone 289) to 4.47e-02 (zone 290) to 6.09e-01 (zone 291)\n",
      "\n",
      " C-An ionization jump occurred, elem Fe22, by 1732% from 9.32e-03 (zone 4) to 9.75e-03 (zone 5) to 1.69e-01 (zone 6)\n",
      "\n",
      " C-An ionization jump occurred, elem Fe23, by 3893% from 1.88e-03 (zone 4) to 1.98e-03 (zone 5) to 7.70e-02 (zone 6)\n",
      "\n",
      " C-An ionization jump occurred, elem Co23, by 1598% from 7.83e-03 (zone 4) to 8.07e-03 (zone 5) to 1.29e-01 (zone 6)\n",
      "\n",
      " C-An ionization jump occurred, elem Co24, by 3689% from 1.17e-03 (zone 4) to 1.21e-03 (zone 5) to 4.47e-02 (zone 6)\n",
      "\n",
      " C-An ionization jump occurred, elem Ni23, by 1000% from 1.96e-02 (zone 4) to 2.02e-02 (zone 5) to 2.02e-01 (zone 6)\n",
      "\n",
      " C-An ionization jump occurred, elem Ni24, by 2297% from 3.51e-03 (zone 4) to 3.64e-03 (zone 5) to 8.36e-02 (zone 6)\n",
      "\n",
      " C-An ionization jump occurred, elem Cu 3, by 3288% from 1.13e-02 (zone 289) to 2.19e-02 (zone 290) to 7.22e-01 (zone 291)\n",
      "\n",
      " C-An ionization jump occurred, elem Cu24, by 1753% from 7.88e-03 (zone 4) to 8.15e-03 (zone 5) to 1.43e-01 (zone 6)\n",
      "\n",
      " C-An ionization jump occurred, elem Zn 3, by 1011% from 1.59e-03 (zone 289) to 2.26e-03 (zone 290) to 2.29e-02 (zone 291)\n",
      "\n",
      " C-An ionization jump occurred, elem Zn25, by 3376% from 2.52e-03 (zone 4) to 2.64e-03 (zone 5) to 8.90e-02 (zone 6)\n",
      "\n",
      " C-The temperature varied by 537.7% between two zones\n",
      "\n",
      " C-The electron density varied by 44.9% between two zones\n",
      "\n",
      "-------------------------------------------------- \n",
      "\n",
      "           Start Iteration Number 3                                                                      XDR grid\n",
      "\n",
      " PROBLEM  ConvFail 1, Temp not converged itr 3 zone 281 fnzone 282.48 Te=2.4252e+04 Htot=4.807e-21 Ctot=5.166e-21 rel err=-7.456e-02 rel tol:5.000e-03\n",
      "\n",
      " C-Model is thick to cosmic rays, which are on.\n",
      "\n",
      " C-A temperature discontinuity occurred from 2.43e+04K (zone 281) to 1.62e+04K (zone 282).\n",
      "\n",
      " C-An ionization jump occurred, elem H  1, by 2165% from 1.45e-03 (zone 280) to 4.37e-03 (zone 281) to 9.46e-02 (zone 282)\n",
      "\n",
      " C-An ionization jump occurred, elem Si 2, by 2537% from 3.85e-03 (zone 280) to 2.03e-02 (zone 281) to 5.14e-01 (zone 282)\n",
      "\n",
      " C-An ionization jump occurred, elem Cu 3, by 1255% from 1.00e-02 (zone 280) to 6.05e-02 (zone 281) to 7.59e-01 (zone 282)\n",
      "\n",
      " C-The temperature varied by 49.7% between two zones\n",
      "\n",
      " C-The electron density varied by 36.2% between two zones\n",
      "\n",
      "************************************************** \n",
      "\n",
      "  Cloudy ends: 525 zones, 3 iterations, 7 cautions. Failures: 1 thermal, 0 pressure, 0 ionization, 0 electron density. (single thread) ExecTime(s) 1661.17\n",
      "\n",
      " [Stop in cdMain at maincl.cpp:496, Cloudy exited OK]\n",
      "\n"
     ]
    }
   ],
   "source": [
    "# open the file\n",
    "with open(wd + 'xdr_h100/xdr_h100_x275.out', 'r') as f:\n",
    "    lines = f.readlines()\n",
    "\n",
    "# print interesting lines\n",
    "for l in lines:\n",
    "    \n",
    "    # keep track of the iteration\n",
    "    if 'Start Iteration' in l: print('-' * 50, '\\n\\n', l)\n",
    "    \n",
    "    # print every disaster, problem and notes\n",
    "    if 'DISASTER' in l: print(l)\n",
    "    if 'PROBLEM' in l: print(l)\n",
    "    if 'NOTE' in l: print(l)\n",
    "    \n",
    "    # print every warning and caution\n",
    "    if 'W-' in l: print(l)\n",
    "    if 'C-' in l: print(l)\n",
    "    \n",
    "    # print final report\n",
    "    if 'Cloudy ends' in l: print('*' * 50, '\\n\\n', l)\n",
    "    if 'Stop in cdMain' in l: print(l)"
   ]
  },
  {
   "cell_type": "markdown",
   "id": "7c997874",
   "metadata": {},
   "source": [
    "### A not OK simulation\n",
    "\n",
    "Now a simulation which went wrong"
   ]
  },
  {
   "cell_type": "code",
   "execution_count": 3,
   "id": "6ac43236",
   "metadata": {},
   "outputs": [
    {
     "name": "stdout",
     "output_type": "stream",
     "text": [
      " NOTE Setcon: continuum has zero intensity starting at  1.0052e+01 Ryd.\n",
      "\n",
      " W-Calculation stopped because default number of zones reached.  Was this intended???\n",
      "\n",
      " W-Default limit can be increased while retaining this check with the SET NEND command.\n",
      "\n",
      " C-Continuum zero at some energies.\n",
      "\n",
      "-------------------------------------------------- \n",
      "\n",
      "           Start Iteration Number 2                                                                      PDR grid\n",
      "\n",
      " W-Calculation stopped because default number of zones reached.  Was this intended???\n",
      "\n",
      " W-Default limit can be increased while retaining this check with the SET NEND command.\n",
      "\n",
      " C-Continuum zero at some energies.\n",
      "\n",
      " C-A temperature oscillation occurred by 39% from 1.21e+01 (zone 1388) to 8.71e+00 (zone 1389) to 1.23e+01 (zone 1390)\n",
      "\n",
      " C-An electron density oscillation occurred by 11% from 4.06e-02 (zone 1388) to 3.67e-02 (zone 1389) to 4.08e-02 (zone 1390)\n",
      "\n",
      " C-The temperature varied by 41.0% between two zones\n",
      "\n",
      "-------------------------------------------------- \n",
      "\n",
      "           Start Iteration Number 3                                                                      PDR grid\n",
      "\n",
      " W-Calculation stopped because default number of zones reached.  Was this intended???\n",
      "\n",
      " W-Default limit can be increased while retaining this check with the SET NEND command.\n",
      "\n",
      " C-Continuum zero at some energies.\n",
      "\n",
      " C-The temperature varied by 31.7% between two zones\n",
      "\n",
      "************************************************** \n",
      "\n",
      "  Cloudy ends: 1400 zones, 3 iterations, 2 warnings, 2 cautions. (single thread) ExecTime(s) 1454.55\n",
      "\n",
      " [Stop in cdMain at maincl.cpp:496, something went wrong]\n",
      "\n"
     ]
    }
   ],
   "source": [
    "# open the file\n",
    "with open(wd + 'pdr_h575/pdr_h575_g400.out', 'r') as f:\n",
    "    lines = f.readlines()\n",
    "\n",
    "# print interesting lines\n",
    "for l in lines:\n",
    "    \n",
    "    # keep track of the iteration\n",
    "    if 'Start Iteration' in l: print('-' * 50, '\\n\\n', l)\n",
    "    \n",
    "    # print every disaster, problem and notes\n",
    "    if 'DISASTER' in l: print(l)\n",
    "    if 'PROBLEM' in l: print(l)\n",
    "    if 'NOTE' in l: print(l)\n",
    "    \n",
    "    # print every warning and caution\n",
    "    if 'W-' in l: print(l)\n",
    "    if 'C-' in l: print(l)\n",
    "    \n",
    "    # print final report\n",
    "    if 'Cloudy ends' in l: print('*' * 50, '\\n\\n', l)\n",
    "    if 'Stop in cdMain' in l: print(l)"
   ]
  },
  {
   "cell_type": "markdown",
   "id": "179ea266",
   "metadata": {},
   "source": [
    "## 2. Find the problems among the full grid <a class=\"anchor\" id=\"grid\"></a>\n",
    "[(back to the top)](#toc)"
   ]
  },
  {
   "cell_type": "code",
   "execution_count": 2,
   "id": "3e4c1660",
   "metadata": {},
   "outputs": [
    {
     "data": {
      "text/plain": [
       "1058"
      ]
     },
     "execution_count": 2,
     "metadata": {},
     "output_type": "execute_result"
    }
   ],
   "source": [
    "# generating the .out filelist\n",
    "filelist = []\n",
    "wd = '/media/phd/cloudy/ngmgrid/'\n",
    "for subdir, dirs, files in os.walk(wd):\n",
    "    filelist.append(files)\n",
    "filelist = [item for sublist in filelist for item in sublist if '.out' in item and 'slurm' not in item]\n",
    "len(filelist)"
   ]
  },
  {
   "cell_type": "markdown",
   "id": "46f1b7a3",
   "metadata": {},
   "source": [
    "The next block goes among the full grid and saves the errors in the list `report`, and the files showing those errors in the list `filrep`. The error to be saved can be selected with the variable list `condition`, the option should be `'W-', 'C-', '!', 'NOTE'` or a combination of those.\n",
    "\n",
    "The logical variable `last_only` makes sure we are only saving the messages from the last iteration for every simulation. This is because many errors can be solved by CLOUDY with multiple iterations."
   ]
  },
  {
   "cell_type": "code",
   "execution_count": 10,
   "id": "f0435083",
   "metadata": {},
   "outputs": [],
   "source": [
    "'''\n",
    "These files have to be removed from the filelist, since\n",
    "they miss the 'Cloudy ends' final part (i.e. the final report)\n",
    "They have to be added MANUALLY to the swwlist.csv file\n",
    "''';\n",
    "\n",
    "#filelist.remove('pdr_h575_g125.out')\n",
    "#filelist.remove('pdr_h575_g425.out')"
   ]
  },
  {
   "cell_type": "code",
   "execution_count": 6,
   "id": "d78a7bc8",
   "metadata": {},
   "outputs": [],
   "source": [
    "### saved files lists\n",
    "\n",
    "#oklist = list(set(filrep.copy())) # Cloudy exited OK\n",
    "#swwlist = list(set(filrep.copy())) # something went wrong\n",
    "#adplist = list(set(filrep.copy())) # ABORT DISASTER PROBLEM\n",
    "# failist = list(set(filrep.copy())) # Failures\n",
    "# problist = list(set(filrep.copy())) # PROBLEM\n",
    "# convbaselist = list(set(filrep.copy())) # ConvBase\n",
    "# crlist = list(set(filrep.copy())) # Model is thick to cosmic rays\n",
    "# thflist = list(set(filrep.copy())) # C-This was probably due to a thermal front\n",
    "# lyalist = list(set(filrep.copy())) # C-The Lya optical depth scale was overrun\n",
    "# codenlist = list(set(filrep.copy())) # C-The CO density varied"
   ]
  },
  {
   "cell_type": "code",
   "execution_count": 7,
   "id": "cdc0e144",
   "metadata": {},
   "outputs": [
    {
     "name": "stdout",
     "output_type": "stream",
     "text": [
      "Looking for ['something went wrong'] in 1056 files\n",
      "1 errors found, for a total of 12 times, in 12 files\n"
     ]
    }
   ],
   "source": [
    "flist = filelist\n",
    "condition = ['something went wrong']\n",
    "C_shorten = False\n",
    "last_only = True\n",
    "report = []\n",
    "filrep = []\n",
    "print('Looking for', condition, 'in', len(flist), 'files')\n",
    "for filo in flist:\n",
    "    with open(wd + '/' + '_'.join(filo.split('_', 2)[:2]) + '/' + filo, 'r') as f:\n",
    "        lines = f.readlines()\n",
    "        if last_only:\n",
    "            n_iter = int(re.split('zones, |iteration', lines[-2])[1])\n",
    "            if n_iter > 1: find_last = False\n",
    "        else: find_last = True\n",
    "        for l in lines:\n",
    "            if ('Start Iteration Number ' + str(n_iter)) in l: find_last = True\n",
    "            if find_last == True:\n",
    "                if any(x in l for x in condition):\n",
    "                    if C_shorten:\n",
    "                        if 'occurred' in l: l = l.split('occurred')[0] + 'occurred'\n",
    "                        elif 'varied' in l: l = l.split('varied')[0] + 'varied'\n",
    "                    report.append(l)\n",
    "                    filrep.append(filo)\n",
    "print(len(set(report)), 'errors found, for a total of', len(report), 'times, in', len(set(filrep)), 'files')"
   ]
  },
  {
   "cell_type": "code",
   "execution_count": 27,
   "id": "5ed29e77",
   "metadata": {
    "scrolled": true
   },
   "outputs": [
    {
     "data": {
      "text/plain": [
       "[' PROBLEM DISASTER - the kinetic temperature appears to be below the lower limit of the code, 2.800e+00K.  It does not bracket thermal balance.\\n']"
      ]
     },
     "execution_count": 27,
     "metadata": {},
     "output_type": "execute_result"
    }
   ],
   "source": [
    "list(set(report))"
   ]
  },
  {
   "cell_type": "code",
   "execution_count": 8,
   "id": "fd7efae3",
   "metadata": {
    "scrolled": true
   },
   "outputs": [
    {
     "data": {
      "text/plain": [
       "['pdr_h525_g400.out',\n",
       " 'pdr_h500_g200.out',\n",
       " 'pdr_h500_g225.out',\n",
       " 'pdr_h550_g325.out',\n",
       " 'pdr_h500_g100.out',\n",
       " 'pdr_h550_g050.out',\n",
       " 'pdr_h550_g300.out',\n",
       " 'pdr_h475_g175.out',\n",
       " 'pdr_h475_g350.out',\n",
       " 'pdr_h475_g250.out',\n",
       " 'pdr_h575_g050.out',\n",
       " 'pdr_h525_g350.out']"
      ]
     },
     "execution_count": 8,
     "metadata": {},
     "output_type": "execute_result"
    }
   ],
   "source": [
    "list(set(filrep))"
   ]
  },
  {
   "cell_type": "markdown",
   "id": "1edd5d17",
   "metadata": {},
   "source": [
    "Since we have the list of files with that error, we can check how those simulations ended"
   ]
  },
  {
   "cell_type": "code",
   "execution_count": null,
   "id": "27896378",
   "metadata": {
    "scrolled": false
   },
   "outputs": [],
   "source": [
    "for filo in filrep:\n",
    "    with open(wd + '/' + '_'.join(filo.split('_', 2)[:2]) + '/' + filo, 'r') as f:\n",
    "        print(filo, '\\n', f.readlines()[-2], '\\n')"
   ]
  },
  {
   "cell_type": "markdown",
   "id": "fe21179e",
   "metadata": {},
   "source": [
    "We can also check the distribution in the parameters space ($n_H, G_0, F_X$) of the simulations that had that error (listed in `filerep`). In the next cell, firstly we extract the parameters from the files list, then we plot them"
   ]
  },
  {
   "cell_type": "code",
   "execution_count": 297,
   "id": "9d17415d",
   "metadata": {
    "scrolled": false
   },
   "outputs": [
    {
     "data": {
      "image/png": "[encoded data removed]",
      "text/plain": [
       "<Figure size 780x520 with 2 Axes>"
      ]
     },
     "metadata": {},
     "output_type": "display_data"
    }
   ],
   "source": [
    "fig, (ax1, ax2) = plt.subplots(1, 2)\n",
    "\n",
    "# first color\n",
    "color = 'springgreen'\n",
    "pdr_h, pdr_g, xdr_h, xdr_x = [], [], [], []\n",
    "for f in crlist:\n",
    "    fparts = f.split('_')\n",
    "    hden = float(fparts[1].split('h')[1])/100\n",
    "    if fparts[0] == 'pdr':\n",
    "        pdr_h.append(hden)\n",
    "        pdr_g.append(float(fparts[2][1:].split('.out')[0])/100)\n",
    "    if fparts[0] == 'xdr':\n",
    "        xdr_h.append(hden)\n",
    "        xdr_x.append(float(fparts[2][1:].split('.out')[0])/100)\n",
    "\n",
    "ax1.scatter(pdr_h, pdr_g, c=color)\n",
    "ax2.scatter(xdr_h, xdr_x, c=color)\n",
    "\n",
    "# second color\n",
    "color, marker = 'black', 'x'\n",
    "pdr_h, pdr_g, xdr_h, xdr_x = [], [], [], []\n",
    "for f in thflist:\n",
    "    fparts = f.split('_')\n",
    "    hden = float(fparts[1].split('h')[1])/100\n",
    "    if fparts[0] == 'pdr':\n",
    "        pdr_h.append(hden)\n",
    "        pdr_g.append(float(fparts[2][1:].split('.out')[0])/100)\n",
    "    if fparts[0] == 'xdr':\n",
    "        xdr_h.append(hden)\n",
    "        xdr_x.append(float(fparts[2][1:].split('.out')[0])/100)\n",
    "\n",
    "ax1.scatter(pdr_h, pdr_g, c=color, marker=marker)\n",
    "ax2.scatter(xdr_h, xdr_x, c=color, marker=marker)\n",
    "\n",
    "# third color\n",
    "color, marker = 'black', '1'\n",
    "pdr_h, pdr_g, xdr_h, xdr_x = [], [], [], []\n",
    "for f in lyalist:\n",
    "    fparts = f.split('_')\n",
    "    hden = float(fparts[1].split('h')[1])/100\n",
    "    if fparts[0] == 'pdr':\n",
    "        pdr_h.append(hden)\n",
    "        pdr_g.append(float(fparts[2][1:].split('.out')[0])/100)\n",
    "    if fparts[0] == 'xdr':\n",
    "        xdr_h.append(hden)\n",
    "        xdr_x.append(float(fparts[2][1:].split('.out')[0])/100)\n",
    "\n",
    "ax1.scatter(pdr_h, pdr_g, c=color, marker=marker)\n",
    "ax2.scatter(xdr_h, xdr_x, c=color, marker=marker)\n",
    "\n",
    "# fourth color\n",
    "color, marker = 'black', '+'\n",
    "pdr_h, pdr_g, xdr_h, xdr_x = [], [], [], []\n",
    "for f in codenlist:\n",
    "    fparts = f.split('_')\n",
    "    hden = float(fparts[1].split('h')[1])/100\n",
    "    if fparts[0] == 'pdr':\n",
    "        pdr_h.append(hden)\n",
    "        pdr_g.append(float(fparts[2][1:].split('.out')[0])/100)\n",
    "    if fparts[0] == 'xdr':\n",
    "        xdr_h.append(hden)\n",
    "        xdr_x.append(float(fparts[2][1:].split('.out')[0])/100)\n",
    "\n",
    "ax1.scatter(pdr_h, pdr_g, c=color, marker=marker)\n",
    "ax2.scatter(xdr_h, xdr_x, c=color, marker=marker)\n",
    "\n",
    "ax1.set_title('PDR')\n",
    "ax1.set_ylim([-0.5, 6.5])\n",
    "ax1.set_ylabel(r'$\\log (G_0)$')\n",
    "ax2.set_title('XDR')\n",
    "ax2.set_ylim([-1.5, 4.5])\n",
    "ax2.set_ylabel(r'$\\log$ (F$_X$ / erg s$^{-1}$ cm$^{-2}$)')\n",
    "ax2.yaxis.set_label_position('right')\n",
    "ax2.yaxis.tick_right()\n",
    "for ax in [ax1, ax2]:\n",
    "    ax.set_xlim([0.5, 7])\n",
    "    ax.set_xticks([1, 2, 3, 4, 5, 6])\n",
    "    ax.set_xlabel(r'$\\log$ (n$_H$ / cm$^{-3}$)')\n",
    "fig.tight_layout()"
   ]
  },
  {
   "cell_type": "code",
   "execution_count": 15,
   "id": "6a739fad",
   "metadata": {},
   "outputs": [
    {
     "data": {
      "image/png": "[encoded data removed]",
      "text/plain": [
       "<Figure size 780x520 with 2 Axes>"
      ]
     },
     "metadata": {},
     "output_type": "display_data"
    }
   ],
   "source": [
    "fig, (ax1, ax2) = plt.subplots(1, 2)\n",
    "\n",
    "# first color\n",
    "color = 'springgreen'\n",
    "pdr_h, pdr_g, xdr_h, xdr_x = [], [], [], []\n",
    "for f in oklist:\n",
    "    fparts = f.split('_')\n",
    "    hden = float(fparts[1].split('h')[1])/100\n",
    "    if fparts[0] == 'pdr':\n",
    "        pdr_h.append(hden)\n",
    "        pdr_g.append(float(fparts[2][1:].split('.out')[0])/100)\n",
    "    if fparts[0] == 'xdr':\n",
    "        xdr_h.append(hden)\n",
    "        xdr_x.append(float(fparts[2][1:].split('.out')[0])/100)\n",
    "\n",
    "ax1.scatter(pdr_h, pdr_g, c=color)\n",
    "ax2.scatter(xdr_h, xdr_x, c=color)\n",
    "\n",
    "# second color\n",
    "color, marker = 'red', 'o'\n",
    "pdr_h, pdr_g, xdr_h, xdr_x = [], [], [], []\n",
    "for f in swwlist:\n",
    "    fparts = f.split('_')\n",
    "    hden = float(fparts[1].split('h')[1])/100\n",
    "    if fparts[0] == 'pdr':\n",
    "        pdr_h.append(hden)\n",
    "        pdr_g.append(float(fparts[2][1:].split('.out')[0])/100)\n",
    "    if fparts[0] == 'xdr':\n",
    "        xdr_h.append(hden)\n",
    "        xdr_x.append(float(fparts[2][1:].split('.out')[0])/100)\n",
    "\n",
    "ax1.scatter(pdr_h, pdr_g, c=color, marker=marker)\n",
    "ax2.scatter(xdr_h, xdr_x, c=color, marker=marker)\n",
    "\n",
    "\n",
    "ax1.set_title('PDR')\n",
    "ax1.set_ylim([-0.5, 6.5])\n",
    "ax1.set_ylabel(r'$\\log (G_0)$')\n",
    "ax2.set_title('XDR')\n",
    "ax2.set_ylim([-1.5, 4.5])\n",
    "ax2.set_ylabel(r'$\\log$ (F$_X$ / erg s$^{-1}$ cm$^{-2}$)')\n",
    "ax2.yaxis.set_label_position('right')\n",
    "ax2.yaxis.tick_right()\n",
    "for ax in [ax1, ax2]:\n",
    "    ax.set_xlim([0.5, 7])\n",
    "    ax.set_xticks([1, 2, 3, 4, 5, 6])\n",
    "    ax.set_xlabel(r'$\\log$ (n$_H$ / cm$^{-3}$)')\n",
    "fig.tight_layout()"
   ]
  },
  {
   "cell_type": "code",
   "execution_count": null,
   "id": "b0104ca2",
   "metadata": {},
   "outputs": [],
   "source": []
  },
  {
   "cell_type": "code",
   "execution_count": null,
   "id": "52b62be6",
   "metadata": {},
   "outputs": [],
   "source": []
  },
  {
   "cell_type": "code",
   "execution_count": null,
   "id": "74e495f0",
   "metadata": {},
   "outputs": [],
   "source": []
  },
  {
   "cell_type": "code",
   "execution_count": null,
   "id": "5c8c6359",
   "metadata": {},
   "outputs": [],
   "source": []
  },
  {
   "cell_type": "code",
   "execution_count": null,
   "id": "7f6ff69c",
   "metadata": {},
   "outputs": [],
   "source": []
  },
  {
   "cell_type": "code",
   "execution_count": null,
   "id": "38b55cda",
   "metadata": {},
   "outputs": [],
   "source": []
  },
  {
   "cell_type": "code",
   "execution_count": null,
   "id": "3925a281",
   "metadata": {},
   "outputs": [],
   "source": []
  },
  {
   "cell_type": "code",
   "execution_count": null,
   "id": "6c59bd60",
   "metadata": {},
   "outputs": [],
   "source": []
  },
  {
   "cell_type": "code",
   "execution_count": null,
   "id": "557e4b30",
   "metadata": {},
   "outputs": [],
   "source": []
  },
  {
   "cell_type": "code",
   "execution_count": null,
   "id": "7193371b",
   "metadata": {},
   "outputs": [],
   "source": []
  },
  {
   "cell_type": "code",
   "execution_count": null,
   "id": "db06b4e3",
   "metadata": {},
   "outputs": [],
   "source": []
  },
  {
   "cell_type": "code",
   "execution_count": null,
   "id": "57d818b6",
   "metadata": {},
   "outputs": [],
   "source": []
  }
 ],
 "metadata": {
  "kernelspec": {
   "display_name": "Python 3",
   "language": "python",
   "name": "python3"
  },
  "language_info": {
   "codemirror_mode": {
    "name": "ipython",
    "version": 3
   },
   "file_extension": ".py",
   "mimetype": "text/x-python",
   "name": "python",
   "nbconvert_exporter": "python",
   "pygments_lexer": "ipython3",
   "version": "3.9.7"
  }
 },
 "nbformat": 4,
 "nbformat_minor": 5
}
